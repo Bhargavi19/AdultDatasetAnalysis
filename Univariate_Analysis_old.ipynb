{
 "cells": [
  {
   "cell_type": "markdown",
   "metadata": {
    "colab_type": "text",
    "id": "view-in-github"
   },
   "source": [
    "<a href=\"https://colab.research.google.com/github/Bhargavi19/AdultDatasetAnalysis/blob/main/DV_project.ipynb\" target=\"_parent\"><img src=\"https://colab.research.google.com/assets/colab-badge.svg\" alt=\"Open In Colab\"/></a>"
   ]
  },
  {
   "cell_type": "code",
   "execution_count": 1,
   "metadata": {
    "id": "PxwLBpYqVsHp"
   },
   "outputs": [
    {
     "ename": "ModuleNotFoundError",
     "evalue": "No module named 'catboost'",
     "output_type": "error",
     "traceback": [
      "\u001b[1;31m---------------------------------------------------------------------------\u001b[0m",
      "\u001b[1;31mModuleNotFoundError\u001b[0m                       Traceback (most recent call last)",
      "\u001b[1;32m<ipython-input-1-aedb6f144115>\u001b[0m in \u001b[0;36m<module>\u001b[1;34m\u001b[0m\n\u001b[0;32m     11\u001b[0m \u001b[1;32mfrom\u001b[0m \u001b[0msklearn\u001b[0m\u001b[1;33m.\u001b[0m\u001b[0mmodel_selection\u001b[0m \u001b[1;32mimport\u001b[0m \u001b[0mtrain_test_split\u001b[0m\u001b[1;33m\u001b[0m\u001b[1;33m\u001b[0m\u001b[0m\n\u001b[0;32m     12\u001b[0m \u001b[1;32mfrom\u001b[0m \u001b[0msklearn\u001b[0m\u001b[1;33m.\u001b[0m\u001b[0mmetrics\u001b[0m \u001b[1;32mimport\u001b[0m \u001b[0maccuracy_score\u001b[0m\u001b[1;33m,\u001b[0m \u001b[0mplot_confusion_matrix\u001b[0m\u001b[1;33m\u001b[0m\u001b[1;33m\u001b[0m\u001b[0m\n\u001b[1;32m---> 13\u001b[1;33m \u001b[1;32mfrom\u001b[0m \u001b[0mcatboost\u001b[0m \u001b[1;32mimport\u001b[0m \u001b[0mCatBoostClassifier\u001b[0m\u001b[1;33m\u001b[0m\u001b[1;33m\u001b[0m\u001b[0m\n\u001b[0m\u001b[0;32m     14\u001b[0m \u001b[1;32mimport\u001b[0m \u001b[0mwarnings\u001b[0m\u001b[1;33m\u001b[0m\u001b[1;33m\u001b[0m\u001b[0m\n\u001b[0;32m     15\u001b[0m \u001b[1;32mfrom\u001b[0m \u001b[0mstatsmodels\u001b[0m\u001b[1;33m.\u001b[0m\u001b[0mgraphics\u001b[0m\u001b[1;33m.\u001b[0m\u001b[0mmosaicplot\u001b[0m \u001b[1;32mimport\u001b[0m \u001b[0mmosaic\u001b[0m\u001b[1;33m\u001b[0m\u001b[1;33m\u001b[0m\u001b[0m\n",
      "\u001b[1;31mModuleNotFoundError\u001b[0m: No module named 'catboost'"
     ]
    }
   ],
   "source": [
    "import pandas as pd\n",
    "from collections import Counter\n",
    "import seaborn as sns\n",
    "import matplotlib.pyplot as plt\n",
    "\n",
    "import warnings\n",
    "warnings.filterwarnings('ignore')\n",
    "import numpy as np\n",
    "\n",
    "import scipy.stats as stats\n",
    "from sklearn.model_selection import train_test_split\n",
    "from sklearn.metrics import accuracy_score, plot_confusion_matrix\n",
    "from catboost import CatBoostClassifier\n",
    "import warnings\n",
    "from statsmodels.graphics.mosaicplot import mosaic\n",
    "pd.options.display.float_format = '{:,.1f}'.format"
   ]
  },
  {
   "cell_type": "code",
   "execution_count": null,
   "metadata": {
    "colab": {
     "base_uri": "https://localhost:8080/"
    },
    "id": "I_haiLVRan8u",
    "outputId": "2d4955c4-3374-44df-c15d-12f2f8c2a168"
   },
   "outputs": [],
   "source": [
    "# define the dataset location\n",
    "filename = 'adult-all.csv'\n",
    "# load the csv file as a data frame\n",
    "dataframe = pd.read_csv(filename, header=None, na_values='?')\n",
    "dataframe.columns = ['age', 'workclass', 'fnlwgt', 'education', 'education-num', 'marital-status', 'occupation', 'relationship', 'race', 'sex', 'capital-gain', 'capital-loss', 'hours-per-week', 'native-country', 'label']\n",
    "\n",
    "dataframe = dataframe.dropna() # drop rows with missing\n",
    "\n",
    "# summarize the shape of the dataset\n",
    "print(dataframe.shape)\n",
    "\n",
    "# summarize the class distribution\n",
    "target = dataframe.values[:,-1]\n",
    "counter = Counter(target)\n",
    "for k,v in counter.items():\n",
    "\tper = v / len(target) * 100\n",
    "\tprint('Class=%s, Count=%d, Percentage=%.3f%%' % (k, v, per))"
   ]
  },
  {
   "cell_type": "code",
   "execution_count": null,
   "metadata": {},
   "outputs": [],
   "source": [
    "dataframe"
   ]
  },
  {
   "cell_type": "markdown",
   "metadata": {
    "id": "psu4S18HXSKs"
   },
   "source": [
    "# Preprocessing"
   ]
  },
  {
   "cell_type": "code",
   "execution_count": null,
   "metadata": {
    "id": "AzPONqKLtnZa"
   },
   "outputs": [],
   "source": [
    "# dataframe['workclass'] = dataframe['workclass'].astype('category').cat.codes\n",
    "# dataframe['education'] = dataframe['education'].astype('category').cat.codes\n",
    "# dataframe['marital-status'] = dataframe['marital-status'].astype('category').cat.codes\n",
    "# dataframe['occupation'] = dataframe['occupation'].astype('category').cat.codes\n",
    "# dataframe['relationship'] = dataframe['relationship'].astype('category').cat.codes\n",
    "# dataframe['race'] = dataframe['race'].astype('category').cat.codes\n",
    "# dataframe['sex'] = dataframe['sex'].astype('category').cat.codes\n",
    "# dataframe['native-country'] = dataframe['native-country'].astype('category').cat.codes\n",
    "# dataframe['label'] = dataframe['label'].astype('category').cat.codes\n",
    "# dataframe['label'] = dataframe['label'].astype('object')\n",
    "\n",
    "#dataframe.drop(columns='education-num') # education and education-num is the same thing"
   ]
  },
  {
   "cell_type": "markdown",
   "metadata": {
    "id": "psu4S18HXSKs"
   },
   "source": [
    "# Data Analysis"
   ]
  },
  {
   "cell_type": "code",
   "execution_count": null,
   "metadata": {
    "scrolled": true
   },
   "outputs": [],
   "source": [
    "# description of continuous variables\n",
    "# catcols = ['workclass', 'education', 'marital-status', 'occupation', 'relationship', 'race', 'sex', 'native-country']\n",
    "# intcols = ['age', 'fnlwgt', 'education', 'capital-gain', 'capital-loss', 'hours-per-week']\n",
    "dataframe.describe()"
   ]
  },
  {
   "cell_type": "code",
   "execution_count": null,
   "metadata": {},
   "outputs": [],
   "source": [
    "columns = ['age', 'workclass', 'fnlwgt', 'education', 'education-num', 'marital-status', 'occupation', \n",
    "           'relationship', 'race', 'sex', 'capital-gain', 'capital-loss', 'hours-per-week', 'native-country', 'label']\n",
    "temp = list(dataframe.dtypes)\n",
    "intCols, objCols = [], []\n",
    "for i in range(len(temp)):\n",
    "    if(temp[i] == 'O'):\n",
    "        objCols.append(columns[i])\n",
    "    else:\n",
    "        intCols.append(columns[i])\n",
    "objCols = objCols[:-1]\n",
    "print(\"Integer Type Columns:\", intCols)\n",
    "print(\"Object Type Columns:\", objCols)"
   ]
  },
  {
   "cell_type": "code",
   "execution_count": null,
   "metadata": {},
   "outputs": [],
   "source": [
    "plt.figure(figsize=(15, 7))\n",
    "N = len(intCols)\n",
    "for i in range(N):\n",
    "    plt.subplot(1, N, i+1)\n",
    "    sns.boxplot(dataframe[intCols[i]], color = 'skyblue')\n",
    "plt.suptitle('Boxplot for Integer Columns')\n",
    "plt.show()"
   ]
  },
  {
   "cell_type": "code",
   "execution_count": null,
   "metadata": {},
   "outputs": [],
   "source": [
    "intData = dataframe[intCols]\n",
    "k = len(intData.columns)\n",
    "n = 3\n",
    "m = (k - 1) // n + 1\n",
    "fig, axes = plt.subplots(m, n, figsize=(n * 10, m * 6))\n",
    "for i, (name, col) in enumerate(intData.iteritems()):\n",
    "    r, c = i // n, i % n\n",
    "    ax = axes[r, c]\n",
    "    col.hist(ax=ax, color='skyblue')\n",
    "    ax2 = col.plot.kde(ax=ax, secondary_y=True, title=name, color='red')\n",
    "    ax2.set_ylim(0)\n",
    "plt.suptitle('Histrogram Distribution for Integer Columns')\n",
    "plt.show()"
   ]
  },
  {
   "cell_type": "code",
   "execution_count": null,
   "metadata": {},
   "outputs": [],
   "source": [
    "dataframe.loc[dataframe['capital-gain']!=0,'capital-gain'] = 'Yes'\n",
    "dataframe.loc[dataframe['capital-gain']!='Yes','capital-gain'] = 'No'\n",
    "\n",
    "fig = plt.figure(figsize = (9,6))\n",
    "ax=sns.countplot(dataframe['capital-gain'], hue=dataframe['label'])\n",
    "ax.set_title('Capital Gain vs Income')\n",
    "plt.xlabel(\"Capital Gain\",fontsize = 14)\n",
    "plt.xticks(rotation=90)\n",
    "plt.ylabel('')\n",
    "plt.show()"
   ]
  },
  {
   "cell_type": "code",
   "execution_count": null,
   "metadata": {},
   "outputs": [],
   "source": [
    "dataframe.loc[dataframe['capital-loss']!=0,'capital-loss'] = 'Yes'\n",
    "dataframe.loc[dataframe['capital-loss']!='Yes','capital-loss'] = 'No'\n",
    "\n",
    "fig = plt.figure(figsize = (9,6))\n",
    "ax=sns.countplot(dataframe['capital-loss'], hue=dataframe['label'])\n",
    "ax.set_title('Capital Loss vs Income')\n",
    "plt.xlabel(\"Capital Loss\",fontsize = 14)\n",
    "plt.xticks(rotation=90)\n",
    "plt.ylabel('')\n",
    "plt.show()"
   ]
  },
  {
   "cell_type": "code",
   "execution_count": null,
   "metadata": {},
   "outputs": [],
   "source": [
    "fig = plt.figure(figsize = (10,6))\n",
    "ax=sns.countplot(dataframe['occupation'], hue=dataframe['label'])\n",
    "ax.set_title('Occupation vs Income')\n",
    "plt.xlabel(\"Occupation\",fontsize = 10);\n",
    "plt.xticks(rotation=90)\n",
    "plt.ylabel('');"
   ]
  },
  {
   "cell_type": "code",
   "execution_count": null,
   "metadata": {},
   "outputs": [],
   "source": [
    "objData = dataframe[objCols[:-2]]\n",
    "k = len(objData.columns)\n",
    "n = 2\n",
    "m = (k - 1) // n + 1\n",
    "fig, axes = plt.subplots(m, n, figsize=(n * 6, m * 5))\n",
    "for i, (name, col) in enumerate(objData.iteritems()):\n",
    "    r, c = i // n, i % n\n",
    "    sns.countplot(dataframe[name], hue=dataframe['label'], ax = axes[r, c])\n",
    "    axes[r, c].tick_params(axis='x', labelrotation=90)\n",
    "    axes[r, c].set_ylabel(' ')\n",
    "fig.tight_layout()\n",
    "#fig.suptitle('Column vs Income for Object Columns')\n",
    "plt.show()"
   ]
  },
  {
   "cell_type": "code",
   "execution_count": null,
   "metadata": {},
   "outputs": [],
   "source": [
    "fig = plt.figure(figsize = (9,6))\n",
    "ax=sns.countplot(dataframe['sex'], hue=dataframe['label'])\n",
    "ax.set_title('Sex vs Income')\n",
    "plt.xlabel(\"Sex\",fontsize = 14)\n",
    "plt.xticks(rotation=90)\n",
    "plt.ylabel('')\n",
    "plt.show()"
   ]
  },
  {
   "cell_type": "code",
   "execution_count": null,
   "metadata": {},
   "outputs": [],
   "source": [
    "fig = plt.figure(figsize = (18,6))\n",
    "ax=sns.countplot(dataframe['native-country'], hue=dataframe['label'])\n",
    "ax.set_title('Native Country vs Income')\n",
    "plt.xlabel(\"Native Country\",fontsize = 14);\n",
    "plt.xticks(rotation=90)\n",
    "plt.ylabel('')\n",
    "plt.ylim(0, 620)\n",
    "plt.show()"
   ]
  },
  {
   "cell_type": "code",
   "execution_count": null,
   "metadata": {},
   "outputs": [],
   "source": [
    "def emptyLabel(m):\n",
    "    return ''\n",
    "\n",
    "def univariatemosaicplots(col1, col2,title):\n",
    "    plt.rcParams[\"figure.figsize\"]=(12, 10)\n",
    "    mosaic(dataframe, [col1,col2],\n",
    "           gap=0.016, \n",
    "           label_rotation=45.0, \n",
    "           horizontal=False,\n",
    "           title=title,\n",
    "           labelizer=emptyLabel\n",
    "          )\n",
    "    plt.show()"
   ]
  },
  {
   "cell_type": "code",
   "execution_count": null,
   "metadata": {},
   "outputs": [],
   "source": [
    "univariatemosaicplots('marital-status','label', 'Mosaic plot for  Marital Status vs Income')"
   ]
  },
  {
   "cell_type": "code",
   "execution_count": null,
   "metadata": {},
   "outputs": [],
   "source": [
    "univariatemosaicplots('occupation','label', 'Mosaic plot for  Occupation vs Income')"
   ]
  },
  {
   "cell_type": "code",
   "execution_count": null,
   "metadata": {},
   "outputs": [],
   "source": [
    "# dataframe['workclass'] = dataframe['workclass'].astype('category').cat.codes\n",
    "# dataframe['education'] = dataframe['education'].astype('category').cat.codes\n",
    "# dataframe['marital-status'] = dataframe['marital-status'].astype('category').cat.codes\n",
    "# dataframe['occupation'] = dataframe['occupation'].astype('category').cat.codes\n",
    "# dataframe['relationship'] = dataframe['relationship'].astype('category').cat.codes\n",
    "# dataframe['race'] = dataframe['race'].astype('category').cat.codes\n",
    "# dataframe['sex'] = dataframe['sex'].astype('category').cat.codes\n",
    "# dataframe['native-country'] = dataframe['native-country'].astype('category').cat.codes\n",
    "# dataframe['label'] = dataframe['label'].astype('category').cat.codes\n",
    "# dataframe['label'] = dataframe['label'].astype('object')\n",
    "\n",
    "dataframe['label'] = dataframe['label'].replace({'<=50K': 0, '>50K': 1})\n",
    "# data = data.drop('education-num',axis=1)\n",
    "# test['label'] = test['label'].replace({' <=50K.': 0, ' >50K.': 1})\n",
    "# test = test.drop('education-num',axis=1)\n",
    "# intCols.remove('education-num')\n",
    "# print(intCols, objCols)"
   ]
  },
  {
   "cell_type": "code",
   "execution_count": null,
   "metadata": {
    "colab": {
     "base_uri": "https://localhost:8080/",
     "height": 470
    },
    "id": "xMCmRT_ymw4K",
    "outputId": "84c3c929-20ba-419a-f4c2-3a4ed8ceb7fa"
   },
   "outputs": [],
   "source": [
    "# Visualizations with Box and Whisker plots for the different numerical variables to get an insight into their distribution. \n",
    "df = dataframe\n",
    "\n",
    "plt.figure(figsize=(20,20))\n",
    "\n",
    "# plt.subplot(3, 2, 1)\n",
    "# plt.boxplot(df[df['label']==1]['age'].values)\n",
    "# plt.title('Age distribution for Income >= 50K')\n",
    "\n",
    "# plt.subplot(3, 2, 2)\n",
    "# plt.boxplot(df[df['label']==0]['age'].values)\n",
    "# plt.title('Age distribution for Income < 50K')\n",
    "\n",
    "\n",
    "plt.subplot(3, 2, 3)\n",
    "plt.boxplot(df[df['label']==1]['hours-per-week'].values)\n",
    "plt.title('Hours Per Week for Income >= 50K')\n",
    "\n",
    "plt.subplot(3, 2, 4)\n",
    "plt.boxplot(df[df['label']==0]['hours-per-week'].values)\n",
    "plt.title('Hours Per Week for Income < 50K')\n",
    "\n",
    "# plt.subplot(3, 2, 5)\n",
    "# plt.boxplot(df[df['label']==1]['capital-gain'].values)\n",
    "# plt.title('Capital gain for Salary >= 50K')\n",
    "\n",
    "# plt.subplot(3, 2, 6)\n",
    "# plt.boxplot(df[df['label']==0]['capital-gain'].values)\n",
    "# plt.title('Capital gain for Salary < 50K')\n",
    "#.astype('int'))\n",
    "plt.show()\n"
   ]
  },
  {
   "cell_type": "code",
   "execution_count": null,
   "metadata": {},
   "outputs": [],
   "source": [
    "df = dataframe\n",
    "\n",
    "plt.figure(figsize=(20,20))\n",
    "\n",
    "# plt.subplot(2, 2, 1)\n",
    "# plt.boxplot(df[df['label']==1]['capital-loss'].values)\n",
    "# plt.title('Capital loss distribution for Salary >= 50K')\n",
    "\n",
    "# plt.subplot(2, 2, 2)\n",
    "# plt.boxplot(df[df['label']==0]['capital-loss'].values)\n",
    "# plt.title('Capital loss distribution for Salary < 50K')\n",
    "\n",
    "\n",
    "plt.subplot(2, 2, 3)\n",
    "plt.boxplot(df[df['label']==1]['fnlwgt'].values)\n",
    "plt.title('fnlwgt distribution for Income >= 50K')\n",
    "\n",
    "plt.subplot(2, 2, 4)\n",
    "plt.boxplot(df[df['label']==0]['fnlwgt'].values)\n",
    "plt.title('fnlwgt distribution for Income < 50K')\n",
    "plt.show()"
   ]
  },
  {
   "cell_type": "code",
   "execution_count": null,
   "metadata": {
    "colab": {
     "base_uri": "https://localhost:8080/",
     "height": 1000
    },
    "id": "4O_xHVoUpXj1",
    "outputId": "aa60017c-ca5e-49da-b6ee-1508e095f8f9"
   },
   "outputs": [],
   "source": [
    "# fig = dataframe.hist(figsize=(50, 30), ec = 'k')\n",
    "# p = [x.title.set_size(32) for x in fig.ravel()]"
   ]
  },
  {
   "cell_type": "code",
   "execution_count": null,
   "metadata": {
    "colab": {
     "base_uri": "https://localhost:8080/"
    },
    "id": "Na0LrolnUzzf",
    "outputId": "2e695c2c-b74b-43a7-adbf-79a637656a6c"
   },
   "outputs": [],
   "source": [
    "# from sklearn.cluster import KMeans\n",
    "# Kmean = KMeans(n_clusters=3)\n",
    "# Kmean.fit(dataframe.loc[:, dataframe.columns != 'label'])"
   ]
  },
  {
   "cell_type": "code",
   "execution_count": null,
   "metadata": {
    "id": "LyeuBipCVgeD"
   },
   "outputs": [],
   "source": [
    "# c2labels = pd.DataFrame(dataframe[Kmean.labels_ == 1]['label'])\n",
    "# c1labels = pd.DataFrame(dataframe[Kmean.labels_ == 0]['label'])\n",
    "# c3labels = pd.DataFrame(dataframe[Kmean.labels_ == 2]['label'])\n",
    "#c4labels = pd.DataFrame(dataframe[Kmean.labels_ == 3]['label'])\n"
   ]
  },
  {
   "cell_type": "code",
   "execution_count": null,
   "metadata": {
    "colab": {
     "base_uri": "https://localhost:8080/",
     "height": 283
    },
    "id": "dLojCvv_W5fB",
    "outputId": "1b0d872a-55f3-48a1-ed4b-2cbffb2a1560"
   },
   "outputs": [],
   "source": [
    "# c2labels.plot.hist()"
   ]
  },
  {
   "cell_type": "code",
   "execution_count": null,
   "metadata": {
    "colab": {
     "base_uri": "https://localhost:8080/",
     "height": 283
    },
    "id": "TUM9urzTX1hq",
    "outputId": "20635673-e0b1-4aab-8ca5-0e8d96e26641"
   },
   "outputs": [],
   "source": [
    "# c1labels.plot.hist()"
   ]
  },
  {
   "cell_type": "code",
   "execution_count": null,
   "metadata": {
    "colab": {
     "base_uri": "https://localhost:8080/",
     "height": 283
    },
    "id": "CN0rM0blYNEG",
    "outputId": "633ba313-1285-46c4-f915-5dc6ee6c1081"
   },
   "outputs": [],
   "source": [
    "# c3labels.plot.hist()"
   ]
  },
  {
   "cell_type": "code",
   "execution_count": null,
   "metadata": {
    "colab": {
     "base_uri": "https://localhost:8080/",
     "height": 316
    },
    "id": "Pmtv2eY3Im1A",
    "outputId": "37c67198-1142-4848-9ed8-f7d3521bcb94"
   },
   "outputs": [],
   "source": [
    "# dataframe[['hours-per-week']].hist(bins=20)"
   ]
  },
  {
   "cell_type": "code",
   "execution_count": null,
   "metadata": {},
   "outputs": [],
   "source": [
    "myexplode = [0,0.2, 0.2, 0.2,0.2]\n",
    "fig,ax=plt.subplots(2,1,figsize=(10,10))\n",
    "df[df['label'] == 1]['race'].value_counts().plot.pie(autopct='%1.1f%%', ax=ax[0],explode=myexplode)\n",
    "ax[0].set_title('More Than 50K')\n",
    "\n",
    "df[df['label'] == 0]['race'].value_counts().plot.pie(autopct='%1.1f%%', ax=ax[1],explode=myexplode)\n",
    "ax[1].set_title('Less than or equal to 50K')\n",
    "\n",
    "ax[0].legend(\n",
    "          loc=\"center left\",\n",
    "          bbox_to_anchor=(1, 0.5, 1, 1))\n",
    "ax[1].legend(\n",
    "          loc=\"center left\",\n",
    "          bbox_to_anchor=(1, 0.5, 1, 1))"
   ]
  },
  {
   "cell_type": "code",
   "execution_count": null,
   "metadata": {},
   "outputs": [],
   "source": [
    "#myexplode = [0,0.2, 0.2]\n",
    "fig,ax=plt.subplots(2,1,figsize=(10,10))\n",
    "df[df['label'] == 1]['sex'].value_counts().plot.pie(autopct='%1.1f%%', ax=ax[0])\n",
    "ax[0].set_title('More Than 50K')\n",
    "\n",
    "df[df['label'] == 0]['sex'].value_counts().plot.pie(autopct='%1.1f%%', ax=ax[1])\n",
    "ax[1].set_title('Less than or equal to 50K')\n",
    "\n",
    "ax[0].legend(\n",
    "          loc=\"center left\",\n",
    "          bbox_to_anchor=(1, 0.5, 1, 1))\n",
    "ax[1].legend(\n",
    "          loc=\"center left\",\n",
    "          bbox_to_anchor=(1, 0.5, 1, 1))"
   ]
  },
  {
   "cell_type": "code",
   "execution_count": null,
   "metadata": {},
   "outputs": [],
   "source": [
    "dataframe['label'] = dataframe['label'].replace({0:'<=50K', 1:'>50K'})\n",
    "fig,ax=plt.subplots(2,1,figsize=(10,10))\n",
    "df[df['sex'] == 'Male']['label'].value_counts().plot.pie(autopct='%1.1f%%', ax=ax[0])\n",
    "ax[0].set_title('pie chart for male income')\n",
    "\n",
    "df[df['sex'] == 'Female']['label'].value_counts().plot.pie(autopct='%1.1f%%', ax=ax[1])\n",
    "ax[1].set_title('pie chart for female income')\n",
    "\n",
    "ax[0].legend(\n",
    "          loc=\"center left\",\n",
    "          bbox_to_anchor=(1, 0.5, 1, 1))\n",
    "ax[1].legend(\n",
    "          loc=\"center left\",\n",
    "          bbox_to_anchor=(1, 0.5, 1, 1))"
   ]
  },
  {
   "cell_type": "code",
   "execution_count": null,
   "metadata": {},
   "outputs": [],
   "source": []
  },
  {
   "cell_type": "code",
   "execution_count": null,
   "metadata": {},
   "outputs": [],
   "source": []
  }
 ],
 "metadata": {
  "colab": {
   "authorship_tag": "ABX9TyMPf1OqaZHi0MgcG+Kym1x6",
   "include_colab_link": true,
   "name": "DV_project.ipynb",
   "provenance": []
  },
  "kernelspec": {
   "display_name": "Python 3",
   "language": "python",
   "name": "python3"
  },
  "language_info": {
   "codemirror_mode": {
    "name": "ipython",
    "version": 3
   },
   "file_extension": ".py",
   "mimetype": "text/x-python",
   "name": "python",
   "nbconvert_exporter": "python",
   "pygments_lexer": "ipython3",
   "version": "3.7.9"
  }
 },
 "nbformat": 4,
 "nbformat_minor": 1
}
